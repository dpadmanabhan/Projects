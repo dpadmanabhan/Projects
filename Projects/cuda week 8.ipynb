{
 "cells": [
  {
   "cell_type": "code",
   "execution_count": 74,
   "metadata": {},
   "outputs": [
    {
     "data": {
      "text/plain": [
       "208"
      ]
     },
     "execution_count": 74,
     "metadata": {},
     "output_type": "execute_result"
    }
   ],
   "source": [
    "import pandas as pd\n",
    "import os\n",
    "import glob\n",
    "os.chdir(\"C:\\\\Users\\\\nithy\\\\OneDrive\\\\Desktop\\\\CUDA\\\\vector\")\n",
    "txt_files = glob.glob(\"./*.txt\")\n",
    "len(txt_files)"
   ]
  },
  {
   "cell_type": "code",
   "execution_count": 2,
   "metadata": {},
   "outputs": [],
   "source": [
    "for i,file in enumerate(txt_files):\n",
    "    a=open(file,'r')\n",
    "    lines=a.readlines()\n",
    "\n",
    "    import re\n",
    "    with open(file+'_'+str(i), \"w+\") as newfile:\n",
    "        regex1=re.compile('^smsp_')\n",
    "        for line in lines:\n",
    "            l=line.strip()\n",
    "            if(l):\n",
    "                if(regex1.match(l)):\n",
    "                    newfile.write(l+'\\n')\n",
    "    a.close()\n",
    "    newfile.close()\n",
    "\n",
    "    tokens=[]\n",
    "    ca=open(file+'_'+str(i),'r')\n",
    "    lines=ca.readlines()\n",
    "    for line in lines:\n",
    "        l=line.strip()\n",
    "        tokens.append(l.split())\n",
    "    ca.close()\n",
    "\n",
    "    import csv\n",
    "    columns=[]\n",
    "    rows=[]\n",
    "    with open (file+'_'+str(i)+\".csv\",\"a\") as c:\n",
    "        writer = csv.writer(c, delimiter=',', quotechar='\"', quoting=csv.QUOTE_MINIMAL)\n",
    "        for t in tokens:\n",
    "            cols=columns.append(t[0])\n",
    "            s=t[2]\n",
    "            if('.' in s):\n",
    "                s=s.replace(\".\",\"\")\n",
    "            r=rows.append(int(s.replace(\",\",\"\")))\n",
    "        writer.writerow([col for col in columns])\n",
    "        writer.writerow([r for r in rows])"
   ]
  },
  {
   "cell_type": "code",
   "execution_count": 73,
   "metadata": {},
   "outputs": [
    {
     "data": {
      "text/plain": [
       "115"
      ]
     },
     "execution_count": 73,
     "metadata": {},
     "output_type": "execute_result"
    }
   ],
   "source": [
    "csv_files = glob.glob(\"./*.csv\")\n",
    "for i,f in enumerate(csv_files):\n",
    "    if(i==0):\n",
    "        df=pd.read_csv(f)\n",
    "    if(i>0):\n",
    "        df1=pd.read_csv(f)\n",
    "        df=df.append(df1.iloc[[0]])\n",
    "len(df)"
   ]
  },
  {
   "cell_type": "code",
   "execution_count": 38,
   "metadata": {},
   "outputs": [],
   "source": [
    "os.chdir(\"C:\\\\Users\\\\nithy\\\\OneDrive\\\\Desktop\\\\CUDA\\\\time\\\\\")\n",
    "txt_files = glob.glob(\"./*.txt\")\n",
    "for i,f in enumerate(txt_files):\n",
    "    if(i==0):\n",
    "        d1=pd.read_csv(f,delimiter=';')\n",
    "        d1=d1['Time']\n",
    "    if(i>0):\n",
    "        d2=pd.read_csv(f,delimiter=';')\n",
    "        d2=d2['Time']\n",
    "        d1=d1.append(d2.iloc[[0]])"
   ]
  },
  {
   "cell_type": "code",
   "execution_count": 39,
   "metadata": {},
   "outputs": [],
   "source": [
    "d11=d1\n",
    "for i,f in enumerate(txt_files):\n",
    "    if(i==0):\n",
    "        d1=pd.read_csv(f,delimiter=';')\n",
    "        d1=d1['Threads']\n",
    "    if(i>0):\n",
    "        d2=pd.read_csv(f,delimiter=';')\n",
    "        d2=d2['Threads']\n",
    "        d1=d1.append(d2.iloc[[0]])"
   ]
  },
  {
   "cell_type": "code",
   "execution_count": null,
   "metadata": {},
   "outputs": [],
   "source": [
    "d11=d1\n",
    "for i,f in enumerate(txt_files):\n",
    "    if(i==0):\n",
    "        d1=pd.read_csv(f,delimiter=';')\n",
    "        d1=d1['Dims']\n",
    "    if(i>0):\n",
    "        d2=pd.read_csv(f,delimiter=';')\n",
    "        d2=d2['Dims']\n",
    "        d1=d1.append(d2.iloc[[0]])"
   ]
  },
  {
   "cell_type": "code",
   "execution_count": 40,
   "metadata": {},
   "outputs": [],
   "source": [
    "newd1=pd.concat([d11,d1],axis=1)\n",
    "f=pd.concat([df,newd1],axis=1)"
   ]
  },
  {
   "cell_type": "code",
   "execution_count": 41,
   "metadata": {},
   "outputs": [],
   "source": [
    "f.to_csv(\"vector2.csv\")"
   ]
  },
  {
   "cell_type": "code",
   "execution_count": 42,
   "metadata": {},
   "outputs": [
    {
     "data": {
      "text/html": [
       "<div>\n",
       "<style scoped>\n",
       "    .dataframe tbody tr th:only-of-type {\n",
       "        vertical-align: middle;\n",
       "    }\n",
       "\n",
       "    .dataframe tbody tr th {\n",
       "        vertical-align: top;\n",
       "    }\n",
       "\n",
       "    .dataframe thead th {\n",
       "        text-align: right;\n",
       "    }\n",
       "</style>\n",
       "<table border=\"1\" class=\"dataframe\">\n",
       "  <thead>\n",
       "    <tr style=\"text-align: right;\">\n",
       "      <th></th>\n",
       "      <th>smsp__average_inst_executed_per_warp.ratio</th>\n",
       "      <th>smsp__inst_executed.sum</th>\n",
       "      <th>smsp__inst_executed_op_global_ld.sum</th>\n",
       "      <th>smsp__inst_executed_op_global_st.sum</th>\n",
       "      <th>smsp__inst_executed_op_shared_ld.sum</th>\n",
       "      <th>smsp__inst_executed_op_shared_st.sum</th>\n",
       "      <th>smsp__sass_thread_inst_executed_op_control_pred_on.sum</th>\n",
       "      <th>smsp__sass_thread_inst_executed_op_fp32_pred_on.sum</th>\n",
       "      <th>smsp__sass_thread_inst_executed_op_integer_pred_on.sum</th>\n",
       "      <th>smsp__sass_thread_inst_executed_op_memory_pred_on.sum</th>\n",
       "      <th>smsp__sass_thread_inst_executed_op_misc_pred_on.sum</th>\n",
       "      <th>Time</th>\n",
       "      <th>Threads</th>\n",
       "    </tr>\n",
       "  </thead>\n",
       "  <tbody>\n",
       "    <tr>\n",
       "      <th>0</th>\n",
       "      <td>54913786</td>\n",
       "      <td>3843965</td>\n",
       "      <td>698890</td>\n",
       "      <td>349445</td>\n",
       "      <td>349445</td>\n",
       "      <td>349445</td>\n",
       "      <td>20168000</td>\n",
       "      <td>0</td>\n",
       "      <td>30253414</td>\n",
       "      <td>50420000</td>\n",
       "      <td>10084202</td>\n",
       "      <td>6.13674</td>\n",
       "      <td>202</td>\n",
       "    </tr>\n",
       "    <tr>\n",
       "      <th>0</th>\n",
       "      <td>55055086</td>\n",
       "      <td>3853856</td>\n",
       "      <td>700688</td>\n",
       "      <td>350344</td>\n",
       "      <td>350344</td>\n",
       "      <td>350344</td>\n",
       "      <td>20420000</td>\n",
       "      <td>0</td>\n",
       "      <td>30631020</td>\n",
       "      <td>51050000</td>\n",
       "      <td>10210612</td>\n",
       "      <td>6.17843</td>\n",
       "      <td>204</td>\n",
       "    </tr>\n",
       "    <tr>\n",
       "      <th>0</th>\n",
       "      <td>551927</td>\n",
       "      <td>3863489</td>\n",
       "      <td>702446</td>\n",
       "      <td>351223</td>\n",
       "      <td>0</td>\n",
       "      <td>0</td>\n",
       "      <td>10336000</td>\n",
       "      <td>0</td>\n",
       "      <td>62016206</td>\n",
       "      <td>31008000</td>\n",
       "      <td>10336412</td>\n",
       "      <td>20.13730</td>\n",
       "      <td>206</td>\n",
       "    </tr>\n",
       "    <tr>\n",
       "      <th>0</th>\n",
       "      <td>65388100</td>\n",
       "      <td>4577167</td>\n",
       "      <td>704174</td>\n",
       "      <td>352087</td>\n",
       "      <td>0</td>\n",
       "      <td>0</td>\n",
       "      <td>10462000</td>\n",
       "      <td>0</td>\n",
       "      <td>94158416</td>\n",
       "      <td>31386000</td>\n",
       "      <td>208</td>\n",
       "      <td>20.13810</td>\n",
       "      <td>208</td>\n",
       "    </tr>\n",
       "    <tr>\n",
       "      <th>0</th>\n",
       "      <td>55461571</td>\n",
       "      <td>3882310</td>\n",
       "      <td>705868</td>\n",
       "      <td>352934</td>\n",
       "      <td>0</td>\n",
       "      <td>0</td>\n",
       "      <td>10588000</td>\n",
       "      <td>0</td>\n",
       "      <td>63528210</td>\n",
       "      <td>31764000</td>\n",
       "      <td>10588420</td>\n",
       "      <td>20.15280</td>\n",
       "      <td>210</td>\n",
       "    </tr>\n",
       "    <tr>\n",
       "      <th>...</th>\n",
       "      <td>...</td>\n",
       "      <td>...</td>\n",
       "      <td>...</td>\n",
       "      <td>...</td>\n",
       "      <td>...</td>\n",
       "      <td>...</td>\n",
       "      <td>...</td>\n",
       "      <td>...</td>\n",
       "      <td>...</td>\n",
       "      <td>...</td>\n",
       "      <td>...</td>\n",
       "      <td>...</td>\n",
       "      <td>...</td>\n",
       "    </tr>\n",
       "    <tr>\n",
       "      <th>0</th>\n",
       "      <td>54164650</td>\n",
       "      <td>3249879</td>\n",
       "      <td>590876</td>\n",
       "      <td>295438</td>\n",
       "      <td>295438</td>\n",
       "      <td>295438</td>\n",
       "      <td>18908000</td>\n",
       "      <td>0</td>\n",
       "      <td>28363344</td>\n",
       "      <td>47270000</td>\n",
       "      <td>9454192</td>\n",
       "      <td>6.01149</td>\n",
       "      <td>192</td>\n",
       "    </tr>\n",
       "    <tr>\n",
       "      <th>0</th>\n",
       "      <td>54320586</td>\n",
       "      <td>3802441</td>\n",
       "      <td>691340</td>\n",
       "      <td>345670</td>\n",
       "      <td>345670</td>\n",
       "      <td>345670</td>\n",
       "      <td>19160000</td>\n",
       "      <td>0</td>\n",
       "      <td>28740970</td>\n",
       "      <td>47900000</td>\n",
       "      <td>9580582</td>\n",
       "      <td>6.75210</td>\n",
       "      <td>194</td>\n",
       "    </tr>\n",
       "    <tr>\n",
       "      <th>0</th>\n",
       "      <td>54472986</td>\n",
       "      <td>3813109</td>\n",
       "      <td>693286</td>\n",
       "      <td>346643</td>\n",
       "      <td>0</td>\n",
       "      <td>0</td>\n",
       "      <td>9706000</td>\n",
       "      <td>0</td>\n",
       "      <td>58236196</td>\n",
       "      <td>29118000</td>\n",
       "      <td>9706392</td>\n",
       "      <td>19.71990</td>\n",
       "      <td>196</td>\n",
       "    </tr>\n",
       "    <tr>\n",
       "      <th>0</th>\n",
       "      <td>64554057</td>\n",
       "      <td>4518784</td>\n",
       "      <td>695192</td>\n",
       "      <td>347596</td>\n",
       "      <td>0</td>\n",
       "      <td>0</td>\n",
       "      <td>9832000</td>\n",
       "      <td>0</td>\n",
       "      <td>88488396</td>\n",
       "      <td>29496000</td>\n",
       "      <td>198</td>\n",
       "      <td>19.95970</td>\n",
       "      <td>198</td>\n",
       "    </tr>\n",
       "    <tr>\n",
       "      <th>0</th>\n",
       "      <td>547695</td>\n",
       "      <td>3833865</td>\n",
       "      <td>697060</td>\n",
       "      <td>348530</td>\n",
       "      <td>0</td>\n",
       "      <td>0</td>\n",
       "      <td>9958000</td>\n",
       "      <td>0</td>\n",
       "      <td>59748200</td>\n",
       "      <td>29874000</td>\n",
       "      <td>9958400</td>\n",
       "      <td>19.68620</td>\n",
       "      <td>200</td>\n",
       "    </tr>\n",
       "  </tbody>\n",
       "</table>\n",
       "<p>281 rows × 13 columns</p>\n",
       "</div>"
      ],
      "text/plain": [
       "    smsp__average_inst_executed_per_warp.ratio  smsp__inst_executed.sum  \\\n",
       "0                                     54913786                  3843965   \n",
       "0                                     55055086                  3853856   \n",
       "0                                       551927                  3863489   \n",
       "0                                     65388100                  4577167   \n",
       "0                                     55461571                  3882310   \n",
       "..                                         ...                      ...   \n",
       "0                                     54164650                  3249879   \n",
       "0                                     54320586                  3802441   \n",
       "0                                     54472986                  3813109   \n",
       "0                                     64554057                  4518784   \n",
       "0                                       547695                  3833865   \n",
       "\n",
       "    smsp__inst_executed_op_global_ld.sum  \\\n",
       "0                                 698890   \n",
       "0                                 700688   \n",
       "0                                 702446   \n",
       "0                                 704174   \n",
       "0                                 705868   \n",
       "..                                   ...   \n",
       "0                                 590876   \n",
       "0                                 691340   \n",
       "0                                 693286   \n",
       "0                                 695192   \n",
       "0                                 697060   \n",
       "\n",
       "    smsp__inst_executed_op_global_st.sum  \\\n",
       "0                                 349445   \n",
       "0                                 350344   \n",
       "0                                 351223   \n",
       "0                                 352087   \n",
       "0                                 352934   \n",
       "..                                   ...   \n",
       "0                                 295438   \n",
       "0                                 345670   \n",
       "0                                 346643   \n",
       "0                                 347596   \n",
       "0                                 348530   \n",
       "\n",
       "    smsp__inst_executed_op_shared_ld.sum  \\\n",
       "0                                 349445   \n",
       "0                                 350344   \n",
       "0                                      0   \n",
       "0                                      0   \n",
       "0                                      0   \n",
       "..                                   ...   \n",
       "0                                 295438   \n",
       "0                                 345670   \n",
       "0                                      0   \n",
       "0                                      0   \n",
       "0                                      0   \n",
       "\n",
       "    smsp__inst_executed_op_shared_st.sum  \\\n",
       "0                                 349445   \n",
       "0                                 350344   \n",
       "0                                      0   \n",
       "0                                      0   \n",
       "0                                      0   \n",
       "..                                   ...   \n",
       "0                                 295438   \n",
       "0                                 345670   \n",
       "0                                      0   \n",
       "0                                      0   \n",
       "0                                      0   \n",
       "\n",
       "    smsp__sass_thread_inst_executed_op_control_pred_on.sum  \\\n",
       "0                                            20168000        \n",
       "0                                            20420000        \n",
       "0                                            10336000        \n",
       "0                                            10462000        \n",
       "0                                            10588000        \n",
       "..                                                ...        \n",
       "0                                            18908000        \n",
       "0                                            19160000        \n",
       "0                                             9706000        \n",
       "0                                             9832000        \n",
       "0                                             9958000        \n",
       "\n",
       "    smsp__sass_thread_inst_executed_op_fp32_pred_on.sum  \\\n",
       "0                                                   0     \n",
       "0                                                   0     \n",
       "0                                                   0     \n",
       "0                                                   0     \n",
       "0                                                   0     \n",
       "..                                                ...     \n",
       "0                                                   0     \n",
       "0                                                   0     \n",
       "0                                                   0     \n",
       "0                                                   0     \n",
       "0                                                   0     \n",
       "\n",
       "    smsp__sass_thread_inst_executed_op_integer_pred_on.sum  \\\n",
       "0                                            30253414        \n",
       "0                                            30631020        \n",
       "0                                            62016206        \n",
       "0                                            94158416        \n",
       "0                                            63528210        \n",
       "..                                                ...        \n",
       "0                                            28363344        \n",
       "0                                            28740970        \n",
       "0                                            58236196        \n",
       "0                                            88488396        \n",
       "0                                            59748200        \n",
       "\n",
       "    smsp__sass_thread_inst_executed_op_memory_pred_on.sum  \\\n",
       "0                                            50420000       \n",
       "0                                            51050000       \n",
       "0                                            31008000       \n",
       "0                                            31386000       \n",
       "0                                            31764000       \n",
       "..                                                ...       \n",
       "0                                            47270000       \n",
       "0                                            47900000       \n",
       "0                                            29118000       \n",
       "0                                            29496000       \n",
       "0                                            29874000       \n",
       "\n",
       "    smsp__sass_thread_inst_executed_op_misc_pred_on.sum      Time  Threads  \n",
       "0                                            10084202     6.13674      202  \n",
       "0                                            10210612     6.17843      204  \n",
       "0                                            10336412    20.13730      206  \n",
       "0                                                 208    20.13810      208  \n",
       "0                                            10588420    20.15280      210  \n",
       "..                                                ...         ...      ...  \n",
       "0                                             9454192     6.01149      192  \n",
       "0                                             9580582     6.75210      194  \n",
       "0                                             9706392    19.71990      196  \n",
       "0                                                 198    19.95970      198  \n",
       "0                                             9958400    19.68620      200  \n",
       "\n",
       "[281 rows x 13 columns]"
      ]
     },
     "execution_count": 42,
     "metadata": {},
     "output_type": "execute_result"
    }
   ],
   "source": [
    "f"
   ]
  },
  {
   "cell_type": "code",
   "execution_count": 43,
   "metadata": {},
   "outputs": [],
   "source": [
    "X1=f.drop(['smsp__average_inst_executed_per_warp.ratio'],axis=1)\n",
    "X2=X1.drop(['smsp__sass_thread_inst_executed_op_fp32_pred_on.sum'],axis=1)\n",
    "X3=X2.drop(['smsp__inst_executed_op_global_ld.sum'],axis=1)\n",
    "X4=X3.drop(['smsp__inst_executed_op_global_st.sum'],axis=1)\n",
    "X5=X4.drop(['smsp__inst_executed_op_shared_ld.sum'],axis=1)\n",
    "X6=X5.drop(['smsp__inst_executed_op_shared_st.sum'],axis=1)\n",
    "X=X6.loc[:,X6.columns!='Time']\n"
   ]
  },
  {
   "cell_type": "code",
   "execution_count": 72,
   "metadata": {},
   "outputs": [
    {
     "data": {
      "text/html": [
       "<div>\n",
       "<style scoped>\n",
       "    .dataframe tbody tr th:only-of-type {\n",
       "        vertical-align: middle;\n",
       "    }\n",
       "\n",
       "    .dataframe tbody tr th {\n",
       "        vertical-align: top;\n",
       "    }\n",
       "\n",
       "    .dataframe thead th {\n",
       "        text-align: right;\n",
       "    }\n",
       "</style>\n",
       "<table border=\"1\" class=\"dataframe\">\n",
       "  <thead>\n",
       "    <tr style=\"text-align: right;\">\n",
       "      <th></th>\n",
       "      <th>smsp__inst_executed.sum</th>\n",
       "      <th>smsp__sass_thread_inst_executed_op_control_pred_on.sum</th>\n",
       "      <th>smsp__sass_thread_inst_executed_op_integer_pred_on.sum</th>\n",
       "      <th>smsp__sass_thread_inst_executed_op_memory_pred_on.sum</th>\n",
       "      <th>smsp__sass_thread_inst_executed_op_misc_pred_on.sum</th>\n",
       "      <th>Threads</th>\n",
       "    </tr>\n",
       "  </thead>\n",
       "  <tbody>\n",
       "    <tr>\n",
       "      <th>0</th>\n",
       "      <td>3891475</td>\n",
       "      <td>21428000</td>\n",
       "      <td>32143484</td>\n",
       "      <td>53570000</td>\n",
       "      <td>10714212</td>\n",
       "      <td>212</td>\n",
       "    </tr>\n",
       "  </tbody>\n",
       "</table>\n",
       "</div>"
      ],
      "text/plain": [
       "   smsp__inst_executed.sum  \\\n",
       "0                  3891475   \n",
       "\n",
       "   smsp__sass_thread_inst_executed_op_control_pred_on.sum  \\\n",
       "0                                           21428000        \n",
       "\n",
       "   smsp__sass_thread_inst_executed_op_integer_pred_on.sum  \\\n",
       "0                                           32143484        \n",
       "\n",
       "   smsp__sass_thread_inst_executed_op_memory_pred_on.sum  \\\n",
       "0                                           53570000       \n",
       "\n",
       "   smsp__sass_thread_inst_executed_op_misc_pred_on.sum  Threads  \n",
       "0                                           10714212        212  "
      ]
     },
     "execution_count": 72,
     "metadata": {},
     "output_type": "execute_result"
    }
   ],
   "source": [
    "X[5:6]"
   ]
  },
  {
   "cell_type": "code",
   "execution_count": 70,
   "metadata": {},
   "outputs": [
    {
     "data": {
      "text/plain": [
       "<AxesSubplot:>"
      ]
     },
     "execution_count": 70,
     "metadata": {},
     "output_type": "execute_result"
    },
    {
     "data": {
      "image/png": "[encoded data removed]",
      "text/plain": [
       "<Figure size 432x288 with 1 Axes>"
      ]
     },
     "metadata": {
      "needs_background": "light"
     },
     "output_type": "display_data"
    }
   ],
   "source": [
    "df=X['smsp__inst_executed.sum'][0:1]\n",
    "df2=X['smsp__inst_executed.sum'][5:6]\n",
    "df3=X['smsp__inst_executed.sum'][10:11]\n",
    "\n",
    "df.append(df2).plot(use_index=False)"
   ]
  },
  {
   "cell_type": "code",
   "execution_count": 71,
   "metadata": {},
   "outputs": [
    {
     "data": {
      "text/plain": [
       "<AxesSubplot:>"
      ]
     },
     "execution_count": 71,
     "metadata": {},
     "output_type": "execute_result"
    },
    {
     "data": {
      "image/png": "[encoded data removed]",
      "text/plain": [
       "<Figure size 432x288 with 1 Axes>"
      ]
     },
     "metadata": {
      "needs_background": "light"
     },
     "output_type": "display_data"
    }
   ],
   "source": [
    "df1=X['Threads'][0:1]\n",
    "df3=X['Threads'][5:6]\n",
    "df1.append(df3).plot(use_index=False)"
   ]
  },
  {
   "cell_type": "code",
   "execution_count": 56,
   "metadata": {},
   "outputs": [
    {
     "data": {
      "text/plain": [
       "<AxesSubplot:>"
      ]
     },
     "execution_count": 56,
     "metadata": {},
     "output_type": "execute_result"
    },
    {
     "data": {
      "image/png": "[encoded data removed]",
      "text/plain": [
       "<Figure size 720x720 with 1 Axes>"
      ]
     },
     "metadata": {
      "needs_background": "light"
     },
     "output_type": "display_data"
    }
   ],
   "source": [
    "X.loc[:,X.columns!='Threads'][20:40].plot(use_index=False,figsize=(10,10))"
   ]
  },
  {
   "cell_type": "code",
   "execution_count": 57,
   "metadata": {},
   "outputs": [
    {
     "data": {
      "text/plain": [
       "<AxesSubplot:>"
      ]
     },
     "execution_count": 57,
     "metadata": {},
     "output_type": "execute_result"
    },
    {
     "data": {
      "image/png": "[encoded data removed]",
      "text/plain": [
       "<Figure size 720x720 with 1 Axes>"
      ]
     },
     "metadata": {
      "needs_background": "light"
     },
     "output_type": "display_data"
    }
   ],
   "source": [
    "X['smsp__inst_executed.sum'].plot(use_index=False,figsize=(10,10))"
   ]
  },
  {
   "cell_type": "code",
   "execution_count": 11,
   "metadata": {},
   "outputs": [],
   "source": [
    "from sklearn.preprocessing import MinMaxScaler\n",
    "import numpy as np\n",
    "min_max_scaler = MinMaxScaler()\n",
    "X_minmax = min_max_scaler.fit_transform(X.loc[:,X.columns!='Threads'])\n",
    "X_minmax1=X['Threads'].to_numpy()\n",
    "newX_minmax=np.append(X_minmax,X_minmax1.reshape(-1,1),axis=1)"
   ]
  },
  {
   "cell_type": "code",
   "execution_count": 12,
   "metadata": {},
   "outputs": [],
   "source": [
    "y=f['Time']\n",
    "new_y=np.array(y)"
   ]
  },
  {
   "cell_type": "code",
   "execution_count": 13,
   "metadata": {},
   "outputs": [],
   "source": [
    "from sklearn import linear_model\n",
    "reg = linear_model.Lasso(alpha=0.5)\n",
    "reg=reg.fit(X_minmax, new_y)"
   ]
  },
  {
   "cell_type": "code",
   "execution_count": 14,
   "metadata": {},
   "outputs": [],
   "source": [
    "from sklearn.linear_model import PoissonRegressor\n",
    "poisson=PoissonRegressor()\n",
    "p=poisson.fit(X_minmax, new_y)"
   ]
  },
  {
   "cell_type": "code",
   "execution_count": 15,
   "metadata": {},
   "outputs": [],
   "source": [
    "from sklearn.neural_network import MLPRegressor\n",
    "regr = MLPRegressor(random_state=1, max_iter=5000).fit(X_minmax, new_y)"
   ]
  },
  {
   "cell_type": "code",
   "execution_count": 16,
   "metadata": {},
   "outputs": [
    {
     "data": {
      "text/plain": [
       "18"
      ]
     },
     "execution_count": 16,
     "metadata": {},
     "output_type": "execute_result"
    }
   ],
   "source": [
    "os.chdir(\"C:\\\\Users\\\\nithy\\\\OneDrive\\\\Desktop\\\\CUDA\\\\vdot\")\n",
    "txt_files = glob.glob(\"./*.txt\")\n",
    "len(txt_files)"
   ]
  },
  {
   "cell_type": "code",
   "execution_count": 17,
   "metadata": {},
   "outputs": [
    {
     "data": {
      "text/plain": [
       "18"
      ]
     },
     "execution_count": 17,
     "metadata": {},
     "output_type": "execute_result"
    }
   ],
   "source": [
    "csv_files = glob.glob(\"./*.csv\")\n",
    "for i,f in enumerate(csv_files):\n",
    "    if(i==0):\n",
    "        df=pd.read_csv(f)\n",
    "    if(i>0):\n",
    "        df1=pd.read_csv(f)\n",
    "        df=df.append(df1.iloc[[0]])\n",
    "test_df=df\n",
    "len(test_df)"
   ]
  },
  {
   "cell_type": "code",
   "execution_count": 18,
   "metadata": {},
   "outputs": [],
   "source": [
    "test_X2=test_df.drop(['smsp__average_inst_executed_per_warp.ratio'],axis=1)\n",
    "test_X3=test_X2.drop(['smsp__sass_thread_inst_executed_op_fp32_pred_on.sum'],axis=1)\n",
    "test_X4=test_X3.drop(['smsp__inst_executed_op_global_ld.sum'],axis=1)\n",
    "test_X5=test_X4.drop(['smsp__inst_executed_op_global_st.sum'],axis=1)\n",
    "test_X6=test_X5.drop(['smsp__inst_executed_op_shared_ld.sum'],axis=1)\n",
    "test_X7=test_X6.drop(['smsp__inst_executed_op_shared_st.sum'],axis=1)"
   ]
  },
  {
   "cell_type": "code",
   "execution_count": 19,
   "metadata": {},
   "outputs": [],
   "source": [
    "os.chdir(\"C:\\\\Users\\\\nithy\\\\OneDrive\\\\Desktop\\\\CUDA\\\\vdottime\\\\\")\n",
    "txt_files = glob.glob(\"./*.txt\")\n",
    "for i,f in enumerate(txt_files):\n",
    "    if(i==0):\n",
    "        d1=pd.read_csv(f,delimiter=';')\n",
    "        d1=d1['Time']\n",
    "    if(i>0):\n",
    "        d2=pd.read_csv(f,delimiter=';')\n",
    "        d2=d2['Time']\n",
    "        d1=d1.append(d2.iloc[[0]])\n",
    "test_d11=d1"
   ]
  },
  {
   "cell_type": "code",
   "execution_count": 20,
   "metadata": {},
   "outputs": [],
   "source": [
    "for i,f in enumerate(txt_files):\n",
    "    if(i==0):\n",
    "        d1=pd.read_csv(f,delimiter=';')\n",
    "        d1=d1['Threads']\n",
    "    if(i>0):\n",
    "        d2=pd.read_csv(f,delimiter=';')\n",
    "        d2=d2['Threads']\n",
    "        d1=d1.append(d2.iloc[[0]])\n",
    "test_d1=d1"
   ]
  },
  {
   "cell_type": "code",
   "execution_count": 21,
   "metadata": {},
   "outputs": [],
   "source": [
    "test_newd1=pd.concat([test_d11,test_d1],axis=1)\n",
    "test_f=pd.concat([test_X7,test_newd1],axis=1)\n",
    "test_X=test_f.loc[:,test_f.columns!='Time']\n",
    "test_y=test_f['Time']"
   ]
  },
  {
   "cell_type": "code",
   "execution_count": 22,
   "metadata": {},
   "outputs": [],
   "source": [
    "min_max_scaler = MinMaxScaler()\n",
    "testX_minmax = min_max_scaler.fit_transform(test_X.loc[:,test_X.columns!='Threads'])\n",
    "testX_minmax1=test_X['Threads'].to_numpy()\n",
    "testnewX_minmax=np.append(testX_minmax,testX_minmax1.reshape(-1,1),axis=1)"
   ]
  },
  {
   "cell_type": "code",
   "execution_count": 23,
   "metadata": {},
   "outputs": [
    {
     "data": {
      "text/plain": [
       "array([11.56928739, 12.44274824, 13.3162091 , 14.18966995, 15.0631308 ,\n",
       "       15.93659166, 16.81005251, 17.68351336, 18.55697422, 19.43043507,\n",
       "       20.30389593, 21.17735678, 22.05081763, 22.92427849, 23.79773934,\n",
       "       24.67120019, 25.54466105, 26.4181219 ])"
      ]
     },
     "execution_count": 23,
     "metadata": {},
     "output_type": "execute_result"
    }
   ],
   "source": [
    "reg.predict(testX_minmax)"
   ]
  },
  {
   "cell_type": "code",
   "execution_count": 25,
   "metadata": {},
   "outputs": [
    {
     "data": {
      "text/plain": [
       "array([13.1874411 , 13.3481699 , 13.51085766, 13.67552826, 13.84220587,\n",
       "       14.01091496, 14.18168027, 14.35452687, 14.52948013, 14.70656573,\n",
       "       14.88580965, 15.06723819, 15.25087799, 15.436756  , 15.62489949,\n",
       "       15.81533608, 21.93350579, 22.2008318 ])"
      ]
     },
     "execution_count": 25,
     "metadata": {},
     "output_type": "execute_result"
    }
   ],
   "source": [
    "p.predict(testX_minmax)"
   ]
  },
  {
   "cell_type": "code",
   "execution_count": 26,
   "metadata": {},
   "outputs": [
    {
     "data": {
      "text/plain": [
       "array([ 6.87488767,  7.52249557,  8.16181364,  9.41297886, 10.63343453,\n",
       "       11.42004644, 12.33587917, 13.05617504, 13.69800605, 14.421287  ,\n",
       "       15.1806588 , 15.9400306 , 16.69769869, 17.23760549, 17.66445891,\n",
       "       18.09131232, 23.87288537, 24.30240719])"
      ]
     },
     "execution_count": 26,
     "metadata": {},
     "output_type": "execute_result"
    }
   ],
   "source": [
    "regr.predict(testX_minmax)"
   ]
  },
  {
   "cell_type": "code",
   "execution_count": 24,
   "metadata": {},
   "outputs": [
    {
     "data": {
      "text/plain": [
       "array([25.4489, 24.8364, 25.1989, 24.6199, 24.8467, 26.1015, 24.5881,\n",
       "       25.3622, 25.218 , 25.1277, 24.6125, 24.593 , 25.4465, 24.8233,\n",
       "       24.829 , 24.8479, 33.063 , 33.0478])"
      ]
     },
     "execution_count": 24,
     "metadata": {},
     "output_type": "execute_result"
    }
   ],
   "source": [
    "np.array(test_y)"
   ]
  },
  {
   "cell_type": "code",
   "execution_count": 31,
   "metadata": {},
   "outputs": [
    {
     "data": {
      "text/plain": [
       "10.613815236101168"
      ]
     },
     "execution_count": 31,
     "metadata": {},
     "output_type": "execute_result"
    }
   ],
   "source": [
    "from sklearn.metrics import mean_absolute_error\n",
    "mean_absolute_error(np.array(test_y), p.predict(testX_minmax))"
   ]
  },
  {
   "cell_type": "code",
   "execution_count": 32,
   "metadata": {},
   "outputs": [
    {
     "data": {
      "text/plain": [
       "11.671513258380623"
      ]
     },
     "execution_count": 32,
     "metadata": {},
     "output_type": "execute_result"
    }
   ],
   "source": [
    "from sklearn.metrics import mean_absolute_error\n",
    "mean_absolute_error(np.array(test_y),regr.predict(testX_minmax))"
   ]
  },
  {
   "cell_type": "code",
   "execution_count": 33,
   "metadata": {},
   "outputs": [
    {
     "data": {
      "text/plain": [
       "6.929145355146809"
      ]
     },
     "execution_count": 33,
     "metadata": {},
     "output_type": "execute_result"
    }
   ],
   "source": [
    "from sklearn.metrics import mean_absolute_error\n",
    "mean_absolute_error(np.array(test_y), reg.predict(testX_minmax))"
   ]
  },
  {
   "cell_type": "code",
   "execution_count": null,
   "metadata": {},
   "outputs": [],
   "source": []
  }
 ],
 "metadata": {
  "kernelspec": {
   "display_name": "Python 3",
   "language": "python",
   "name": "python3"
  },
  "language_info": {
   "codemirror_mode": {
    "name": "ipython",
    "version": 3
   },
   "file_extension": ".py",
   "mimetype": "text/x-python",
   "name": "python",
   "nbconvert_exporter": "python",
   "pygments_lexer": "ipython3",
   "version": "3.8.5"
  }
 },
 "nbformat": 4,
 "nbformat_minor": 4
}
