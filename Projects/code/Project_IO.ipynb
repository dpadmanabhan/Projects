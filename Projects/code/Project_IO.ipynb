{
 "cells": [
  {
   "cell_type": "code",
   "execution_count": 281,
   "metadata": {
    "scrolled": true
   },
   "outputs": [],
   "source": [
    "import pandas as pd\n",
    "import numpy as np\n",
    "file1 = pd.read_csv('file1.txt', sep=\";\")\n",
    "file1['Timestamp'] = file1['Timestamp'].astype('datetime64[s]')\n",
    "\n",
    "file2 = pd.read_csv('file2.txt', sep=\";\")\n",
    "file2['Timestamp'] = file2['Timestamp'].astype('datetime64[s]')\n",
    "\n",
    "file3 = pd.read_csv('file3.txt', sep=\";\")\n",
    "file3['Timestamp'] = file3['Timestamp'].astype('datetime64[s]')\n",
    "\n",
    "\n",
    "o1 = file1.merge(file2, on=['Interval','Timestamp'])\n",
    "fo=o1.merge(file3,on=['Interval','Timestamp'])\n",
    "final=fo.to_csv(\"final.csv\",index=False)\n",
    "\n",
    "df=pd.read_csv('final.csv')\n",
    "df.dropna(how='all', axis='columns',inplace=True)\n",
    "df.dropna(how='any', axis='rows',inplace=True)\n",
    "\n",
    "df.to_csv(\"processed.csv\",index=False)"
   ]
  },
  {
   "cell_type": "code",
   "execution_count": 270,
   "metadata": {},
   "outputs": [
    {
     "name": "stdout",
     "output_type": "stream",
     "text": [
      "The baseline score is 11124.923076923076\n"
     ]
    },
    {
     "data": {
      "image/png": "[encoded data removed]",
      "text/plain": [
       "<Figure size 432x288 with 1 Axes>"
      ]
     },
     "metadata": {
      "needs_background": "light"
     },
     "output_type": "display_data"
    }
   ],
   "source": [
    "x = df['Interval'].values\n",
    "y = df['Busyness_/home'].values\n",
    "x, y\n",
    "\n",
    "from matplotlib import pyplot\n",
    "import numpy as np\n",
    "\n",
    "pyplot.plot(y)\n",
    "print(\"The baseline score is\",np.mean(y))"
   ]
  },
  {
   "cell_type": "code",
   "execution_count": 271,
   "metadata": {},
   "outputs": [],
   "source": [
    "x=x.reshape(-1,1)"
   ]
  },
  {
   "cell_type": "code",
   "execution_count": 272,
   "metadata": {},
   "outputs": [
    {
     "name": "stdout",
     "output_type": "stream",
     "text": [
      "The predicted value is  10677.541325578051\n",
      "==================================\n",
      "The actual value is 10776.0\n",
      "Model score 91.4043259954301\n"
     ]
    }
   ],
   "source": [
    "from sklearn.model_selection import train_test_split\n",
    "from sklearn.linear_model import SGDRegressor\n",
    "X_train, X_test, y_train, y_test = train_test_split(x, y, test_size=0.30, random_state=42)\n",
    "model = SGDRegressor(max_iter=10000, tol=1e-3)\n",
    "model.fit(X_train,y_train)\n",
    "print(\"The predicted value is \",model.predict(X_test)[0])\n",
    "print(\"==================================\")\n",
    "print(\"The actual value is\",y_test[0])\n",
    "print(\"Model score\",model.score(X_test,y_test)*100)\n",
    "    "
   ]
  },
  {
   "cell_type": "code",
   "execution_count": 274,
   "metadata": {},
   "outputs": [
    {
     "data": {
      "text/plain": [
       "LinearRegression(copy_X=True, fit_intercept=True, n_jobs=1, normalize=False)"
      ]
     },
     "execution_count": 274,
     "metadata": {},
     "output_type": "execute_result"
    }
   ],
   "source": [
    "from sklearn import linear_model\n",
    "model = linear_model.LinearRegression().fit(X_train, y_train)\n",
    "linear_model.LinearRegression(copy_X=True, fit_intercept=True, n_jobs=1, normalize=False)"
   ]
  },
  {
   "cell_type": "code",
   "execution_count": 276,
   "metadata": {},
   "outputs": [
    {
     "name": "stdout",
     "output_type": "stream",
     "text": [
      "The predicted value is  10758.600612654483\n",
      "==================================\n",
      "The actual value is 10776.0\n",
      "Model score 97.81436493332187\n",
      "future prediction\n"
     ]
    },
    {
     "data": {
      "text/plain": [
       "array([13589.87937044])"
      ]
     },
     "execution_count": 276,
     "metadata": {},
     "output_type": "execute_result"
    }
   ],
   "source": [
    "print(\"The predicted value is \",model.predict(X_test)[0])\n",
    "print(\"==================================\")\n",
    "print(\"The actual value is\",y_test[0])\n",
    "print(\"Model score\",model.score(X_test,y_test)*100)\n",
    "model.score(X_test,y_test)*100\n",
    "\n",
    "print(\"future prediction\")\n",
    "model.predict([[35.0]])"
   ]
  },
  {
   "cell_type": "code",
   "execution_count": null,
   "metadata": {},
   "outputs": [],
   "source": [
    "import _pickle\n",
    "filename='model.sav'\n",
    "_pickle.dump(model, open(filename, 'wb'))\n",
    "\n",
    "X_train.shape"
   ]
  },
  {
   "cell_type": "code",
   "execution_count": 277,
   "metadata": {},
   "outputs": [],
   "source": [
    "uni_data=df['Busyness_/home'].values\n",
    "scaler = MinMaxScaler(feature_range=(0, 1))\n",
    "u_data = scaler.fit_transform(uni_data.reshape(-1,1))"
   ]
  },
  {
   "cell_type": "code",
   "execution_count": 278,
   "metadata": {},
   "outputs": [],
   "source": [
    "def timeseries_data(dataset, begin_index, end_index, lookback, target_size):\n",
    "    data = []\n",
    "    labels = []\n",
    "\n",
    "    begin_index = begin_index + lookback\n",
    "\n",
    "    for i in range(begin_index, end_index):\n",
    "        indices = range(i-lookback, i)\n",
    "        data.append(np.reshape(dataset[indices], (lookback, 1)))\n",
    "        labels.append(dataset[i+target_size])\n",
    "    return np.array(data), np.array(labels)\n",
    "\n",
    "\n",
    "x_train_uni, y_train_uni = timeseries_data(u_data, 0, 20,\n",
    "                                           5,\n",
    "                                           0)\n"
   ]
  },
  {
   "cell_type": "code",
   "execution_count": 279,
   "metadata": {
    "scrolled": false
   },
   "outputs": [
    {
     "name": "stdout",
     "output_type": "stream",
     "text": [
      "Epoch 1/100\n",
      "15/15 [==============================] - 2s 132ms/step - loss: 0.2273\n",
      "Epoch 2/100\n",
      "15/15 [==============================] - 0s 9ms/step - loss: 0.1504\n",
      "Epoch 3/100\n",
      "15/15 [==============================] - 0s 10ms/step - loss: 0.0948\n",
      "Epoch 4/100\n",
      "15/15 [==============================] - 0s 9ms/step - loss: 0.0682\n",
      "Epoch 5/100\n",
      "15/15 [==============================] - 0s 9ms/step - loss: 0.0706\n",
      "Epoch 6/100\n",
      "15/15 [==============================] - 0s 9ms/step - loss: 0.0664\n",
      "Epoch 7/100\n",
      "15/15 [==============================] - 0s 9ms/step - loss: 0.0585\n",
      "Epoch 8/100\n",
      "15/15 [==============================] - 0s 9ms/step - loss: 0.0556\n",
      "Epoch 9/100\n",
      "15/15 [==============================] - 0s 9ms/step - loss: 0.0542\n",
      "Epoch 10/100\n",
      "15/15 [==============================] - 0s 10ms/step - loss: 0.0491\n",
      "Epoch 11/100\n",
      "15/15 [==============================] - 0s 9ms/step - loss: 0.0458\n",
      "Epoch 12/100\n",
      "15/15 [==============================] - 0s 9ms/step - loss: 0.0418\n",
      "Epoch 13/100\n",
      "15/15 [==============================] - 0s 9ms/step - loss: 0.0408\n",
      "Epoch 14/100\n",
      "15/15 [==============================] - 0s 9ms/step - loss: 0.0380\n",
      "Epoch 15/100\n",
      "15/15 [==============================] - 0s 10ms/step - loss: 0.0364\n",
      "Epoch 16/100\n",
      "15/15 [==============================] - 0s 9ms/step - loss: 0.0345\n",
      "Epoch 17/100\n",
      "15/15 [==============================] - 0s 9ms/step - loss: 0.0337\n",
      "Epoch 18/100\n",
      "15/15 [==============================] - 0s 9ms/step - loss: 0.0346\n",
      "Epoch 19/100\n",
      "15/15 [==============================] - 0s 9ms/step - loss: 0.0345\n",
      "Epoch 20/100\n",
      "15/15 [==============================] - 0s 9ms/step - loss: 0.0335\n",
      "Epoch 21/100\n",
      "15/15 [==============================] - 0s 9ms/step - loss: 0.0340\n",
      "Epoch 22/100\n",
      "15/15 [==============================] - 0s 9ms/step - loss: 0.0344\n",
      "Epoch 23/100\n",
      "15/15 [==============================] - 0s 9ms/step - loss: 0.0340\n",
      "Epoch 24/100\n",
      "15/15 [==============================] - 0s 9ms/step - loss: 0.0345\n",
      "Epoch 25/100\n",
      "15/15 [==============================] - 0s 9ms/step - loss: 0.0334\n",
      "Epoch 26/100\n",
      "15/15 [==============================] - 0s 9ms/step - loss: 0.0357\n",
      "Epoch 27/100\n",
      "15/15 [==============================] - 0s 9ms/step - loss: 0.0358\n",
      "Epoch 28/100\n",
      "15/15 [==============================] - 0s 9ms/step - loss: 0.0334\n",
      "Epoch 29/100\n",
      "15/15 [==============================] - 0s 9ms/step - loss: 0.0353\n",
      "Epoch 30/100\n",
      "15/15 [==============================] - 0s 9ms/step - loss: 0.0344\n",
      "Epoch 31/100\n",
      "15/15 [==============================] - 0s 10ms/step - loss: 0.0337\n",
      "Epoch 32/100\n",
      "15/15 [==============================] - 0s 9ms/step - loss: 0.0339\n",
      "Epoch 33/100\n",
      "15/15 [==============================] - 0s 9ms/step - loss: 0.0361\n",
      "Epoch 34/100\n",
      "15/15 [==============================] - 0s 9ms/step - loss: 0.0352\n",
      "Epoch 35/100\n",
      "15/15 [==============================] - 0s 9ms/step - loss: 0.0333\n",
      "Epoch 36/100\n",
      "15/15 [==============================] - 0s 9ms/step - loss: 0.0337\n",
      "Epoch 37/100\n",
      "15/15 [==============================] - 0s 9ms/step - loss: 0.0360\n",
      "Epoch 38/100\n",
      "15/15 [==============================] - 0s 10ms/step - loss: 0.0347\n",
      "Epoch 39/100\n",
      "15/15 [==============================] - 0s 9ms/step - loss: 0.0337\n",
      "Epoch 40/100\n",
      "15/15 [==============================] - 0s 9ms/step - loss: 0.0338\n",
      "Epoch 41/100\n",
      "15/15 [==============================] - 0s 9ms/step - loss: 0.0342\n",
      "Epoch 42/100\n",
      "15/15 [==============================] - 0s 9ms/step - loss: 0.0355\n",
      "Epoch 43/100\n",
      "15/15 [==============================] - 0s 9ms/step - loss: 0.0346\n",
      "Epoch 44/100\n",
      "15/15 [==============================] - 0s 9ms/step - loss: 0.0337\n",
      "Epoch 45/100\n",
      "15/15 [==============================] - 0s 10ms/step - loss: 0.0360\n",
      "Epoch 46/100\n",
      "15/15 [==============================] - 0s 9ms/step - loss: 0.0348\n",
      "Epoch 47/100\n",
      "15/15 [==============================] - 0s 9ms/step - loss: 0.0336\n",
      "Epoch 48/100\n",
      "15/15 [==============================] - 0s 9ms/step - loss: 0.0343\n",
      "Epoch 49/100\n",
      "15/15 [==============================] - 0s 9ms/step - loss: 0.0347\n",
      "Epoch 50/100\n",
      "15/15 [==============================] - 0s 9ms/step - loss: 0.0345\n",
      "Epoch 51/100\n",
      "15/15 [==============================] - 0s 9ms/step - loss: 0.0339\n",
      "Epoch 52/100\n",
      "15/15 [==============================] - 0s 9ms/step - loss: 0.0357\n",
      "Epoch 53/100\n",
      "15/15 [==============================] - 0s 10ms/step - loss: 0.0336\n",
      "Epoch 54/100\n",
      "15/15 [==============================] - 0s 10ms/step - loss: 0.0361\n",
      "Epoch 55/100\n",
      "15/15 [==============================] - 0s 9ms/step - loss: 0.0338\n",
      "Epoch 56/100\n",
      "15/15 [==============================] - 0s 9ms/step - loss: 0.0346\n",
      "Epoch 57/100\n",
      "15/15 [==============================] - 0s 9ms/step - loss: 0.0346\n",
      "Epoch 58/100\n",
      "15/15 [==============================] - 0s 9ms/step - loss: 0.0333\n",
      "Epoch 59/100\n",
      "15/15 [==============================] - 0s 9ms/step - loss: 0.0360\n",
      "Epoch 60/100\n",
      "15/15 [==============================] - 0s 10ms/step - loss: 0.0333\n",
      "Epoch 61/100\n",
      "15/15 [==============================] - 0s 10ms/step - loss: 0.0351\n",
      "Epoch 62/100\n",
      "15/15 [==============================] - 0s 9ms/step - loss: 0.0333\n",
      "Epoch 63/100\n",
      "15/15 [==============================] - 0s 9ms/step - loss: 0.0351\n",
      "Epoch 64/100\n",
      "15/15 [==============================] - 0s 9ms/step - loss: 0.0360\n",
      "Epoch 65/100\n",
      "15/15 [==============================] - 0s 9ms/step - loss: 0.0344\n",
      "Epoch 66/100\n",
      "15/15 [==============================] - 0s 9ms/step - loss: 0.0338\n",
      "Epoch 67/100\n",
      "15/15 [==============================] - 0s 10ms/step - loss: 0.0339\n",
      "Epoch 68/100\n",
      "15/15 [==============================] - 0s 10ms/step - loss: 0.0338\n",
      "Epoch 69/100\n",
      "15/15 [==============================] - 0s 9ms/step - loss: 0.0335\n",
      "Epoch 70/100\n",
      "15/15 [==============================] - 0s 9ms/step - loss: 0.0329\n",
      "Epoch 71/100\n",
      "15/15 [==============================] - 0s 9ms/step - loss: 0.0336\n",
      "Epoch 72/100\n",
      "15/15 [==============================] - 0s 9ms/step - loss: 0.0334\n",
      "Epoch 73/100\n",
      "15/15 [==============================] - 0s 9ms/step - loss: 0.0368\n",
      "Epoch 74/100\n",
      "15/15 [==============================] - 0s 10ms/step - loss: 0.0339\n",
      "Epoch 75/100\n",
      "15/15 [==============================] - 0s 10ms/step - loss: 0.0325\n",
      "Epoch 76/100\n",
      "15/15 [==============================] - 0s 9ms/step - loss: 0.0348\n",
      "Epoch 77/100\n",
      "15/15 [==============================] - 0s 9ms/step - loss: 0.0351\n",
      "Epoch 78/100\n",
      "15/15 [==============================] - 0s 9ms/step - loss: 0.0373\n",
      "Epoch 79/100\n",
      "15/15 [==============================] - 0s 9ms/step - loss: 0.0381\n",
      "Epoch 80/100\n",
      "15/15 [==============================] - 0s 9ms/step - loss: 0.0339\n",
      "Epoch 81/100\n",
      "15/15 [==============================] - 0s 10ms/step - loss: 0.0334\n",
      "Epoch 82/100\n",
      "15/15 [==============================] - 0s 9ms/step - loss: 0.0331\n",
      "Epoch 83/100\n",
      "15/15 [==============================] - 0s 9ms/step - loss: 0.0345\n",
      "Epoch 84/100\n",
      "15/15 [==============================] - 0s 9ms/step - loss: 0.0353\n",
      "Epoch 85/100\n",
      "15/15 [==============================] - 0s 9ms/step - loss: 0.0354\n",
      "Epoch 86/100\n",
      "15/15 [==============================] - 0s 9ms/step - loss: 0.0319\n",
      "Epoch 87/100\n",
      "15/15 [==============================] - 0s 9ms/step - loss: 0.0369\n",
      "Epoch 88/100\n",
      "15/15 [==============================] - 0s 10ms/step - loss: 0.0384\n",
      "Epoch 89/100\n",
      "15/15 [==============================] - 0s 9ms/step - loss: 0.0334\n",
      "Epoch 90/100\n",
      "15/15 [==============================] - 0s 9ms/step - loss: 0.0365\n",
      "Epoch 91/100\n",
      "15/15 [==============================] - 0s 10ms/step - loss: 0.0319\n",
      "Epoch 92/100\n",
      "15/15 [==============================] - 0s 9ms/step - loss: 0.0359\n",
      "Epoch 93/100\n",
      "15/15 [==============================] - 0s 9ms/step - loss: 0.0334\n",
      "Epoch 94/100\n",
      "15/15 [==============================] - 0s 9ms/step - loss: 0.0389\n",
      "Epoch 95/100\n",
      "15/15 [==============================] - 0s 9ms/step - loss: 0.0348\n",
      "Epoch 96/100\n",
      "15/15 [==============================] - 0s 9ms/step - loss: 0.0349\n",
      "Epoch 97/100\n",
      "15/15 [==============================] - 0s 9ms/step - loss: 0.0323\n",
      "Epoch 98/100\n",
      "15/15 [==============================] - 0s 9ms/step - loss: 0.0370\n",
      "Epoch 99/100\n",
      "15/15 [==============================] - 0s 9ms/step - loss: 0.0352\n",
      "Epoch 100/100\n",
      "15/15 [==============================] - 0s 9ms/step - loss: 0.0340\n"
     ]
    },
    {
     "data": {
      "text/plain": [
       "<keras.callbacks.History at 0x26eb58c1d08>"
      ]
     },
     "execution_count": 279,
     "metadata": {},
     "output_type": "execute_result"
    }
   ],
   "source": [
    "from keras.models import Sequential\n",
    "from keras.layers import Dense\n",
    "from keras.layers import LSTM\n",
    "\n",
    "model = Sequential()\n",
    "model.add(LSTM(8, input_shape=x_train_uni.shape[-2:]))\n",
    "model.add(Dense(1))\n",
    "\n",
    "model.compile(optimizer='adam', loss='mae')\n",
    "\n",
    "model.fit(x_train_uni, y_train_uni, epochs=100, batch_size=1)\n"
   ]
  },
  {
   "cell_type": "code",
   "execution_count": 280,
   "metadata": {},
   "outputs": [
    {
     "name": "stdout",
     "output_type": "stream",
     "text": [
      "testing data\n",
      "==============================\n",
      "[[11532.]\n",
      " [11628.]\n",
      " [11776.]\n",
      " [11816.]\n",
      " [12008.]]\n",
      "predicted value [[12066.142]]\n",
      "actual value [[12128.]]\n"
     ]
    }
   ],
   "source": [
    "test_data=[]\n",
    "test_data.append(np.reshape(u_data[range(20,25)], (5, 1)))\n",
    "t=np.array(test_data)\n",
    "predict = model.predict(t)\n",
    "ytest = scaler.inverse_transform(predict)\n",
    "print(\"testing data\")\n",
    "print(\"==============================\")\n",
    "print(scaler.inverse_transform(u_data[range(20,25)]))\n",
    "print(\"predicted value\",ytest)\n",
    "print(\"actual value\",scaler.inverse_transform((u_data[25]).reshape(-1,1)))"
   ]
  },
  {
   "cell_type": "code",
   "execution_count": null,
   "metadata": {},
   "outputs": [],
   "source": []
  }
 ],
 "metadata": {
  "kernelspec": {
   "display_name": "Python 3",
   "language": "python",
   "name": "python3"
  },
  "language_info": {
   "codemirror_mode": {
    "name": "ipython",
    "version": 3
   },
   "file_extension": ".py",
   "mimetype": "text/x-python",
   "name": "python",
   "nbconvert_exporter": "python",
   "pygments_lexer": "ipython3",
   "version": "3.7.7"
  }
 },
 "nbformat": 4,
 "nbformat_minor": 4
}
