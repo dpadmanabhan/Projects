{
 "cells": [
  {
   "cell_type": "code",
   "execution_count": 1,
   "metadata": {},
   "outputs": [],
   "source": [
    "import pandas as pd\n",
    "import os\n",
    "os.chdir(\"C:\\\\Users\\\\nithy\\\\OneDrive\\\\Desktop\\\\pythio-scripts\")"
   ]
  },
  {
   "cell_type": "code",
   "execution_count": 2,
   "metadata": {},
   "outputs": [],
   "source": [
    "io1=pd.read_csv(\"io_hdd_fio.txt\",sep=';')\n",
    "io1.dropna(how='all', axis='columns',inplace=True)\n",
    "io1.dropna(how='any', axis='rows',inplace=True)\n",
    "io1=io1[io1['aqu-sz'] != 'aqu-sz']\n",
    "io1=io1.reset_index()\n",
    "del io1['index']\n",
    "io1=io1.astype(float)\n"
   ]
  },
  {
   "cell_type": "code",
   "execution_count": 3,
   "metadata": {},
   "outputs": [],
   "source": [
    "collect=pd.read_csv(\"collect_fio_hdd_new.csv\")\n",
    "counter=pd.read_csv(\"counter_hdd_fio.txt\")\n",
    "merged=pd.concat([collect, io1], axis=1)\n"
   ]
  },
  {
   "cell_type": "code",
   "execution_count": 5,
   "metadata": {},
   "outputs": [
    {
     "data": {
      "text/plain": [
       "KbytesRead    -0.532561\n",
       "MergedRead          NaN\n",
       "ReadIos       -0.693402\n",
       "ReadSize      -0.507734\n",
       "KbytesWrite    0.904466\n",
       "MergedWrite    0.069288\n",
       "WriteIos       0.934006\n",
       "WriteSize      0.891842\n",
       "WriteWait      0.959524\n",
       "RWSize         0.891915\n",
       "Qlen           0.961946\n",
       "Wait           0.960067\n",
       "Svctime       -0.359727\n",
       "Util           0.690647\n",
       "r/s           -0.693320\n",
       "w/s            0.949420\n",
       "rkB/s         -0.533288\n",
       "wkB/s          0.974669\n",
       "rrqm/s              NaN\n",
       "wrqm/s         0.044312\n",
       "%rrqm               NaN\n",
       "%wrqm          0.048905\n",
       "r_await       -0.707946\n",
       "w_await        0.996607\n",
       "aqu-sz         1.000000\n",
       "rareq-sz      -0.509072\n",
       "wareq-sz       0.905637\n",
       "svctm         -0.154921\n",
       "%util          0.710576\n",
       "28642          0.836678\n",
       "Name: aqu-sz, dtype: float64"
      ]
     },
     "execution_count": 5,
     "metadata": {},
     "output_type": "execute_result"
    }
   ],
   "source": [
    "final=pd.concat([merged,counter],axis=1)\n",
    "final.dropna(how='any',axis='rows',inplace=True)\n",
    "f=final.drop('Device',axis=1)\n"
   ]
  },
  {
   "cell_type": "code",
   "execution_count": 10,
   "metadata": {},
   "outputs": [],
   "source": [
    "f=f.rename(columns={'28642': 'IOcounter'})"
   ]
  },
  {
   "cell_type": "code",
   "execution_count": 11,
   "metadata": {},
   "outputs": [
    {
     "data": {
      "text/plain": [
       "KbytesRead    -0.532561\n",
       "MergedRead          NaN\n",
       "ReadIos       -0.693402\n",
       "ReadSize      -0.507734\n",
       "KbytesWrite    0.904466\n",
       "MergedWrite    0.069288\n",
       "WriteIos       0.934006\n",
       "WriteSize      0.891842\n",
       "WriteWait      0.959524\n",
       "RWSize         0.891915\n",
       "Qlen           0.961946\n",
       "Wait           0.960067\n",
       "Svctime       -0.359727\n",
       "Util           0.690647\n",
       "r/s           -0.693320\n",
       "w/s            0.949420\n",
       "rkB/s         -0.533288\n",
       "wkB/s          0.974669\n",
       "rrqm/s              NaN\n",
       "wrqm/s         0.044312\n",
       "%rrqm               NaN\n",
       "%wrqm          0.048905\n",
       "r_await       -0.707946\n",
       "w_await        0.996607\n",
       "aqu-sz         1.000000\n",
       "rareq-sz      -0.509072\n",
       "wareq-sz       0.905637\n",
       "svctm         -0.154921\n",
       "%util          0.710576\n",
       "IOcounter      0.836678\n",
       "Name: aqu-sz, dtype: float64"
      ]
     },
     "execution_count": 11,
     "metadata": {},
     "output_type": "execute_result"
    }
   ],
   "source": [
    "f.corr()['aqu-sz']"
   ]
  },
  {
   "cell_type": "code",
   "execution_count": 14,
   "metadata": {},
   "outputs": [
    {
     "data": {
      "text/plain": [
       "<matplotlib.axes._subplots.AxesSubplot at 0xb052940>"
      ]
     },
     "execution_count": 14,
     "metadata": {},
     "output_type": "execute_result"
    },
    {
     "data": {
      "image/png": "[encoded data removed]",
      "text/plain": [
       "<Figure size 432x288 with 1 Axes>"
      ]
     },
     "metadata": {
      "needs_background": "light"
     },
     "output_type": "display_data"
    }
   ],
   "source": [
    "f['Qlen'].plot()"
   ]
  },
  {
   "cell_type": "code",
   "execution_count": 15,
   "metadata": {},
   "outputs": [
    {
     "data": {
      "text/plain": [
       "<matplotlib.axes._subplots.AxesSubplot at 0xb1e6b00>"
      ]
     },
     "execution_count": 15,
     "metadata": {},
     "output_type": "execute_result"
    },
    {
     "data": {
      "image/png": "[encoded data removed]",
      "text/plain": [
       "<Figure size 432x288 with 1 Axes>"
      ]
     },
     "metadata": {
      "needs_background": "light"
     },
     "output_type": "display_data"
    }
   ],
   "source": [
    "f['aqu-sz'].plot()"
   ]
  }
 ],
 "metadata": {
  "kernelspec": {
   "display_name": "Python 2",
   "language": "python",
   "name": "python2"
  },
  "language_info": {
   "codemirror_mode": {
    "name": "ipython",
    "version": 2
   },
   "file_extension": ".py",
   "mimetype": "text/x-python",
   "name": "python",
   "nbconvert_exporter": "python",
   "pygments_lexer": "ipython2",
   "version": "2.7.16"
  }
 },
 "nbformat": 4,
 "nbformat_minor": 2
}
